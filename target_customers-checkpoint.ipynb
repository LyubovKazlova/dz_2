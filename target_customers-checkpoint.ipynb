{
 "cells": [
  {
   "cell_type": "markdown",
   "metadata": {
    "collapsed": true,
    "pycharm": {
     "name": "#%% md\n"
    }
   },
   "source": [
    "### *Задание*\n",
    "\n",
    "-----\n",
    "\n",
    "<br>\n",
    "\n",
    "Используя данные о выборке, постройте типичный портрет целевого клиента компании (пол, возраст, какой тип квартиры он приобретает, какова площадь в кв. м , каков средний чек, цель покупки, источник лида (погуглите что такое лид в маркетинге, за это отвечает колонка Source). Таким образом после вашего анализа, я хочу увидеть небольшое описание нашего целевого клиента с соответствующими визуализациями и статистическими выводами, что мы и прошли с вами на лекции. Используйте по максимуму ваши знания работы с датасетом (обработка, предобработка и приведение его к виду с которым можно работать).\n",
    "\n",
    "<br>\n",
    "\n",
    "Критерии оценки задания:\n",
    "\n",
    "1. Правильность и **подкрепленность выводами вашего статистического анализа** (используйте весь доступный вам инструментарий, какой - решите самостоятельно).\n",
    "2. Корректность использования графиков при графическом анализе. Не надо визуализировать все, что у вас есть в датасете, **подумайте какие признаки и какие взамосвязи можно и нужно показать, какие распределения важно отобразить.**\n",
    "3. Оформление и **эффективное использование кода.**\n",
    "\n",
    "**Максимальный балл за решение текущего задания 5 баллов.**\n",
    "\n",
    "Покажите, как вы можете самостоятельно работать с данными и ваше аналитическое мышление, подкрепленное цифрами и соответствующими выводами.\n",
    "Удачи."
   ]
  },
  {
   "cell_type": "code",
   "execution_count": 399,
   "metadata": {},
   "outputs": [],
   "source": [
    "import pandas as pd\n",
    "import numpy as np\n",
    "import matplotlib.pyplot as plt\n",
    "import scipy.stats as st\n",
    "import seaborn as sns\n",
    "\n",
    "import warnings\n",
    "warnings.filterwarnings(\"ignore\")"
   ]
  },
  {
   "cell_type": "code",
   "execution_count": 400,
   "metadata": {
    "pycharm": {
     "name": "#%%\n"
    }
   },
   "outputs": [],
   "source": [
    "df = pd.read_csv(\"./clients.csv\")"
   ]
  },
  {
   "cell_type": "code",
   "execution_count": 401,
   "metadata": {},
   "outputs": [
    {
     "name": "stdout",
     "output_type": "stream",
     "text": [
      "<class 'pandas.core.frame.DataFrame'>\n",
      "RangeIndex: 195 entries, 0 to 194\n",
      "Data columns (total 25 columns):\n",
      " #   Column                   Non-Null Count  Dtype  \n",
      "---  ------                   --------------  -----  \n",
      " 0   ID                       195 non-null    int64  \n",
      " 1   Building                 195 non-null    int64  \n",
      " 2   Year of sale             195 non-null    int64  \n",
      " 3   Month of sale            195 non-null    int64  \n",
      " 4   Type of property         195 non-null    object \n",
      " 5   Property number          195 non-null    int64  \n",
      " 6   Area (ft.)               195 non-null    float64\n",
      " 7   Price                    195 non-null    object \n",
      " 8   Status                   195 non-null    object \n",
      " 9   Customer ID              195 non-null    object \n",
      " 10  Entity                   195 non-null    object \n",
      " 11  Name                     195 non-null    object \n",
      " 12  Surname                  195 non-null    object \n",
      " 13  Age at time of purchase  178 non-null    float64\n",
      " 14  Age Interval             178 non-null    object \n",
      " 15  Y                        178 non-null    float64\n",
      " 16  M                        178 non-null    float64\n",
      " 17  D                        178 non-null    float64\n",
      " 18  Gender                   178 non-null    object \n",
      " 19  Country                  195 non-null    object \n",
      " 20  State                    181 non-null    object \n",
      " 21  Purpose                  195 non-null    object \n",
      " 22  Deal satisfaction        195 non-null    int64  \n",
      " 23  Mortgage                 195 non-null    object \n",
      " 24  Source                   195 non-null    object \n",
      "dtypes: float64(5), int64(6), object(14)\n",
      "memory usage: 38.2+ KB\n"
     ]
    }
   ],
   "source": [
    "df.info()"
   ]
  },
  {
   "cell_type": "code",
   "execution_count": 402,
   "metadata": {
    "scrolled": true
   },
   "outputs": [
    {
     "data": {
      "text/html": [
       "<div>\n",
       "<style scoped>\n",
       "    .dataframe tbody tr th:only-of-type {\n",
       "        vertical-align: middle;\n",
       "    }\n",
       "\n",
       "    .dataframe tbody tr th {\n",
       "        vertical-align: top;\n",
       "    }\n",
       "\n",
       "    .dataframe thead th {\n",
       "        text-align: right;\n",
       "    }\n",
       "</style>\n",
       "<table border=\"1\" class=\"dataframe\">\n",
       "  <thead>\n",
       "    <tr style=\"text-align: right;\">\n",
       "      <th></th>\n",
       "      <th>ID</th>\n",
       "      <th>Building</th>\n",
       "      <th>Year of sale</th>\n",
       "      <th>Month of sale</th>\n",
       "      <th>Type of property</th>\n",
       "      <th>Property number</th>\n",
       "      <th>Area (ft.)</th>\n",
       "      <th>Price</th>\n",
       "      <th>Status</th>\n",
       "      <th>Customer ID</th>\n",
       "      <th>...</th>\n",
       "      <th>Y</th>\n",
       "      <th>M</th>\n",
       "      <th>D</th>\n",
       "      <th>Gender</th>\n",
       "      <th>Country</th>\n",
       "      <th>State</th>\n",
       "      <th>Purpose</th>\n",
       "      <th>Deal satisfaction</th>\n",
       "      <th>Mortgage</th>\n",
       "      <th>Source</th>\n",
       "    </tr>\n",
       "  </thead>\n",
       "  <tbody>\n",
       "    <tr>\n",
       "      <th>0</th>\n",
       "      <td>1030</td>\n",
       "      <td>1</td>\n",
       "      <td>2005</td>\n",
       "      <td>11</td>\n",
       "      <td>Apartment</td>\n",
       "      <td>30</td>\n",
       "      <td>743.09</td>\n",
       "      <td>$ 246,172.68</td>\n",
       "      <td>Sold</td>\n",
       "      <td>C0028</td>\n",
       "      <td>...</td>\n",
       "      <td>1986.0</td>\n",
       "      <td>6.0</td>\n",
       "      <td>21.0</td>\n",
       "      <td>F</td>\n",
       "      <td>USA</td>\n",
       "      <td>California</td>\n",
       "      <td>Home</td>\n",
       "      <td>5</td>\n",
       "      <td>No</td>\n",
       "      <td>Website</td>\n",
       "    </tr>\n",
       "    <tr>\n",
       "      <th>1</th>\n",
       "      <td>1029</td>\n",
       "      <td>1</td>\n",
       "      <td>2005</td>\n",
       "      <td>10</td>\n",
       "      <td>Apartment</td>\n",
       "      <td>29</td>\n",
       "      <td>756.21</td>\n",
       "      <td>$ 246,331.90</td>\n",
       "      <td>Sold</td>\n",
       "      <td>C0027</td>\n",
       "      <td>...</td>\n",
       "      <td>1983.0</td>\n",
       "      <td>2.0</td>\n",
       "      <td>24.0</td>\n",
       "      <td>F</td>\n",
       "      <td>USA</td>\n",
       "      <td>California</td>\n",
       "      <td>Home</td>\n",
       "      <td>5</td>\n",
       "      <td>No</td>\n",
       "      <td>Website</td>\n",
       "    </tr>\n",
       "    <tr>\n",
       "      <th>2</th>\n",
       "      <td>2002</td>\n",
       "      <td>2</td>\n",
       "      <td>2007</td>\n",
       "      <td>7</td>\n",
       "      <td>Apartment</td>\n",
       "      <td>2</td>\n",
       "      <td>587.28</td>\n",
       "      <td>$ 209,280.91</td>\n",
       "      <td>Sold</td>\n",
       "      <td>C0112</td>\n",
       "      <td>...</td>\n",
       "      <td>1985.0</td>\n",
       "      <td>12.0</td>\n",
       "      <td>27.0</td>\n",
       "      <td>M</td>\n",
       "      <td>USA</td>\n",
       "      <td>California</td>\n",
       "      <td>Home</td>\n",
       "      <td>1</td>\n",
       "      <td>Yes</td>\n",
       "      <td>Client</td>\n",
       "    </tr>\n",
       "    <tr>\n",
       "      <th>3</th>\n",
       "      <td>2031</td>\n",
       "      <td>2</td>\n",
       "      <td>2007</td>\n",
       "      <td>12</td>\n",
       "      <td>Apartment</td>\n",
       "      <td>31</td>\n",
       "      <td>1604.75</td>\n",
       "      <td>$ 452,667.01</td>\n",
       "      <td>Sold</td>\n",
       "      <td>C0160</td>\n",
       "      <td>...</td>\n",
       "      <td>1985.0</td>\n",
       "      <td>12.0</td>\n",
       "      <td>27.0</td>\n",
       "      <td>M</td>\n",
       "      <td>USA</td>\n",
       "      <td>California</td>\n",
       "      <td>Investment</td>\n",
       "      <td>3</td>\n",
       "      <td>Yes</td>\n",
       "      <td>Website</td>\n",
       "    </tr>\n",
       "    <tr>\n",
       "      <th>4</th>\n",
       "      <td>1049</td>\n",
       "      <td>1</td>\n",
       "      <td>2004</td>\n",
       "      <td>11</td>\n",
       "      <td>Apartment</td>\n",
       "      <td>49</td>\n",
       "      <td>1375.45</td>\n",
       "      <td>$ 467,083.31</td>\n",
       "      <td>Sold</td>\n",
       "      <td>C0014</td>\n",
       "      <td>...</td>\n",
       "      <td>1979.0</td>\n",
       "      <td>5.0</td>\n",
       "      <td>15.0</td>\n",
       "      <td>F</td>\n",
       "      <td>USA</td>\n",
       "      <td>California</td>\n",
       "      <td>Home</td>\n",
       "      <td>4</td>\n",
       "      <td>No</td>\n",
       "      <td>Agency</td>\n",
       "    </tr>\n",
       "  </tbody>\n",
       "</table>\n",
       "<p>5 rows × 25 columns</p>\n",
       "</div>"
      ],
      "text/plain": [
       "     ID  Building  Year of sale  Month of sale Type of property  \\\n",
       "0  1030         1          2005             11        Apartment   \n",
       "1  1029         1          2005             10        Apartment   \n",
       "2  2002         2          2007              7        Apartment   \n",
       "3  2031         2          2007             12        Apartment   \n",
       "4  1049         1          2004             11        Apartment   \n",
       "\n",
       "   Property number  Area (ft.)           Price  Status Customer ID  ...  \\\n",
       "0               30      743.09   $ 246,172.68    Sold        C0028  ...   \n",
       "1               29      756.21   $ 246,331.90    Sold        C0027  ...   \n",
       "2                2      587.28   $ 209,280.91    Sold        C0112  ...   \n",
       "3               31     1604.75   $ 452,667.01    Sold        C0160  ...   \n",
       "4               49     1375.45   $ 467,083.31    Sold        C0014  ...   \n",
       "\n",
       "        Y     M     D  Gender Country       State     Purpose  \\\n",
       "0  1986.0   6.0  21.0       F     USA  California        Home   \n",
       "1  1983.0   2.0  24.0       F     USA  California        Home   \n",
       "2  1985.0  12.0  27.0       M     USA  California        Home   \n",
       "3  1985.0  12.0  27.0       M     USA  California  Investment   \n",
       "4  1979.0   5.0  15.0       F     USA  California        Home   \n",
       "\n",
       "   Deal satisfaction Mortgage   Source  \n",
       "0                  5       No  Website  \n",
       "1                  5       No  Website  \n",
       "2                  1      Yes   Client  \n",
       "3                  3      Yes  Website  \n",
       "4                  4       No   Agency  \n",
       "\n",
       "[5 rows x 25 columns]"
      ]
     },
     "execution_count": 402,
     "metadata": {},
     "output_type": "execute_result"
    }
   ],
   "source": [
    "df.head()"
   ]
  },
  {
   "cell_type": "code",
   "execution_count": 403,
   "metadata": {},
   "outputs": [
    {
     "data": {
      "text/plain": [
       "Index(['ID', 'Building', 'Year of sale', 'Month of sale', 'Type of property',\n",
       "       'Property number', 'Area (ft.)', 'Price', 'Status', 'Customer ID',\n",
       "       'Entity', 'Name', 'Surname', 'Age at time of purchase', 'Age Interval ',\n",
       "       'Y', 'M', 'D', 'Gender', 'Country', 'State', 'Purpose',\n",
       "       'Deal satisfaction', 'Mortgage', 'Source'],\n",
       "      dtype='object')"
      ]
     },
     "execution_count": 403,
     "metadata": {},
     "output_type": "execute_result"
    }
   ],
   "source": [
    "df.columns"
   ]
  },
  {
   "cell_type": "code",
   "execution_count": 404,
   "metadata": {},
   "outputs": [],
   "source": [
    "# делаем удобными наименования столбцов для нашей работы\n",
    "df.rename(columns={\n",
    "        'Year of sale': 'Year_sale',\n",
    "        'Month of sale': 'Month_sale',\n",
    "        'Type of property':'Type_property',\n",
    "        'Property number': 'Property',\n",
    "        'Customer ID': 'CustomerID',\n",
    "        'Age at time of purchase': 'Age_sale',\n",
    "        'Age Interval ':'Age_var',\n",
    "        'Deal satisfaction':'Deal',\n",
    "        'Area (ft.)':'Area_ft'}, inplace = True) "
   ]
  },
  {
   "cell_type": "code",
   "execution_count": 405,
   "metadata": {},
   "outputs": [
    {
     "data": {
      "text/plain": [
       " Sold     195\n",
       "Name: Status, dtype: int64"
      ]
     },
     "execution_count": 405,
     "metadata": {},
     "output_type": "execute_result"
    }
   ],
   "source": [
    "# при анализе данных в столбце Status отображено одно значение. на сегодняшний день могу удалить это значение как неявляющееся важным\n",
    "df.Status.value_counts() # при "
   ]
  },
  {
   "cell_type": "code",
   "execution_count": 406,
   "metadata": {},
   "outputs": [],
   "source": [
    "df.drop(columns = ['Status'], axis = 1, inplace = True)"
   ]
  },
  {
   "cell_type": "markdown",
   "metadata": {},
   "source": [
    "### При анализе видно, что есть пропущенные значения в характеристиках возраста на момент покупки и пола. они составляют около 8% "
   ]
  },
  {
   "cell_type": "code",
   "execution_count": 407,
   "metadata": {},
   "outputs": [
    {
     "data": {
      "text/plain": [
       "ID                0\n",
       "Building          0\n",
       "Year_sale         0\n",
       "Month_sale        0\n",
       "Type_property     0\n",
       "Property          0\n",
       "Area_ft           0\n",
       "Price             0\n",
       "CustomerID        0\n",
       "Entity            0\n",
       "Name              0\n",
       "Surname           0\n",
       "Age_sale         17\n",
       "Age_var          17\n",
       "Y                17\n",
       "M                17\n",
       "D                17\n",
       "Gender           17\n",
       "Country           0\n",
       "State            14\n",
       "Purpose           0\n",
       "Deal              0\n",
       "Mortgage          0\n",
       "Source            0\n",
       "dtype: int64"
      ]
     },
     "execution_count": 407,
     "metadata": {},
     "output_type": "execute_result"
    }
   ],
   "source": [
    "df.isnull().sum()"
   ]
  },
  {
   "cell_type": "code",
   "execution_count": 408,
   "metadata": {},
   "outputs": [
    {
     "data": {
      "text/html": [
       "<div>\n",
       "<style scoped>\n",
       "    .dataframe tbody tr th:only-of-type {\n",
       "        vertical-align: middle;\n",
       "    }\n",
       "\n",
       "    .dataframe tbody tr th {\n",
       "        vertical-align: top;\n",
       "    }\n",
       "\n",
       "    .dataframe thead th {\n",
       "        text-align: right;\n",
       "    }\n",
       "</style>\n",
       "<table border=\"1\" class=\"dataframe\">\n",
       "  <thead>\n",
       "    <tr style=\"text-align: right;\">\n",
       "      <th></th>\n",
       "      <th>ID</th>\n",
       "      <th>Building</th>\n",
       "      <th>Year_sale</th>\n",
       "      <th>Month_sale</th>\n",
       "      <th>Type_property</th>\n",
       "      <th>Property</th>\n",
       "      <th>Area_ft</th>\n",
       "      <th>Price</th>\n",
       "      <th>CustomerID</th>\n",
       "      <th>Entity</th>\n",
       "      <th>...</th>\n",
       "      <th>Y</th>\n",
       "      <th>M</th>\n",
       "      <th>D</th>\n",
       "      <th>Gender</th>\n",
       "      <th>Country</th>\n",
       "      <th>State</th>\n",
       "      <th>Purpose</th>\n",
       "      <th>Deal</th>\n",
       "      <th>Mortgage</th>\n",
       "      <th>Source</th>\n",
       "    </tr>\n",
       "  </thead>\n",
       "  <tbody>\n",
       "    <tr>\n",
       "      <th>41</th>\n",
       "      <td>1032</td>\n",
       "      <td>1</td>\n",
       "      <td>2005</td>\n",
       "      <td>1</td>\n",
       "      <td>Apartment</td>\n",
       "      <td>32</td>\n",
       "      <td>782.25</td>\n",
       "      <td>$ 215,410.28</td>\n",
       "      <td>C0015</td>\n",
       "      <td>Individual</td>\n",
       "      <td>...</td>\n",
       "      <td>1969.0</td>\n",
       "      <td>10.0</td>\n",
       "      <td>30.0</td>\n",
       "      <td>F</td>\n",
       "      <td>Belgium</td>\n",
       "      <td>NaN</td>\n",
       "      <td>Home</td>\n",
       "      <td>2</td>\n",
       "      <td>No</td>\n",
       "      <td>Agency</td>\n",
       "    </tr>\n",
       "    <tr>\n",
       "      <th>58</th>\n",
       "      <td>2025</td>\n",
       "      <td>2</td>\n",
       "      <td>2007</td>\n",
       "      <td>2</td>\n",
       "      <td>Apartment</td>\n",
       "      <td>25</td>\n",
       "      <td>927.83</td>\n",
       "      <td>$ 315,733.15</td>\n",
       "      <td>C0070</td>\n",
       "      <td>Individual</td>\n",
       "      <td>...</td>\n",
       "      <td>1967.0</td>\n",
       "      <td>6.0</td>\n",
       "      <td>13.0</td>\n",
       "      <td>F</td>\n",
       "      <td>Russia</td>\n",
       "      <td>NaN</td>\n",
       "      <td>Home</td>\n",
       "      <td>1</td>\n",
       "      <td>No</td>\n",
       "      <td>Agency</td>\n",
       "    </tr>\n",
       "    <tr>\n",
       "      <th>64</th>\n",
       "      <td>2005</td>\n",
       "      <td>2</td>\n",
       "      <td>2006</td>\n",
       "      <td>9</td>\n",
       "      <td>Apartment</td>\n",
       "      <td>5</td>\n",
       "      <td>785.48</td>\n",
       "      <td>$ 257,183.48</td>\n",
       "      <td>C0047</td>\n",
       "      <td>Individual</td>\n",
       "      <td>...</td>\n",
       "      <td>1965.0</td>\n",
       "      <td>1.0</td>\n",
       "      <td>11.0</td>\n",
       "      <td>F</td>\n",
       "      <td>Denmark</td>\n",
       "      <td>NaN</td>\n",
       "      <td>Investment</td>\n",
       "      <td>1</td>\n",
       "      <td>No</td>\n",
       "      <td>Agency</td>\n",
       "    </tr>\n",
       "    <tr>\n",
       "      <th>76</th>\n",
       "      <td>3049</td>\n",
       "      <td>3</td>\n",
       "      <td>2007</td>\n",
       "      <td>4</td>\n",
       "      <td>Apartment</td>\n",
       "      <td>49</td>\n",
       "      <td>1283.45</td>\n",
       "      <td>$ 338,181.18</td>\n",
       "      <td>C0084</td>\n",
       "      <td>Individual</td>\n",
       "      <td>...</td>\n",
       "      <td>1965.0</td>\n",
       "      <td>5.0</td>\n",
       "      <td>12.0</td>\n",
       "      <td>M</td>\n",
       "      <td>Mexico</td>\n",
       "      <td>NaN</td>\n",
       "      <td>Home</td>\n",
       "      <td>3</td>\n",
       "      <td>No</td>\n",
       "      <td>Agency</td>\n",
       "    </tr>\n",
       "    <tr>\n",
       "      <th>114</th>\n",
       "      <td>2003</td>\n",
       "      <td>2</td>\n",
       "      <td>2006</td>\n",
       "      <td>12</td>\n",
       "      <td>Apartment</td>\n",
       "      <td>3</td>\n",
       "      <td>927.08</td>\n",
       "      <td>$ 289,727.99</td>\n",
       "      <td>C0063</td>\n",
       "      <td>Individual</td>\n",
       "      <td>...</td>\n",
       "      <td>1955.0</td>\n",
       "      <td>12.0</td>\n",
       "      <td>2.0</td>\n",
       "      <td>M</td>\n",
       "      <td>Russia</td>\n",
       "      <td>NaN</td>\n",
       "      <td>Investment</td>\n",
       "      <td>3</td>\n",
       "      <td>No</td>\n",
       "      <td>Agency</td>\n",
       "    </tr>\n",
       "    <tr>\n",
       "      <th>139</th>\n",
       "      <td>3050</td>\n",
       "      <td>3</td>\n",
       "      <td>2006</td>\n",
       "      <td>11</td>\n",
       "      <td>Apartment</td>\n",
       "      <td>50</td>\n",
       "      <td>977.87</td>\n",
       "      <td>$ 248,274.31</td>\n",
       "      <td>C0059</td>\n",
       "      <td>Individual</td>\n",
       "      <td>...</td>\n",
       "      <td>1949.0</td>\n",
       "      <td>6.0</td>\n",
       "      <td>22.0</td>\n",
       "      <td>F</td>\n",
       "      <td>Russia</td>\n",
       "      <td>NaN</td>\n",
       "      <td>Home</td>\n",
       "      <td>3</td>\n",
       "      <td>Yes</td>\n",
       "      <td>Agency</td>\n",
       "    </tr>\n",
       "    <tr>\n",
       "      <th>146</th>\n",
       "      <td>2019</td>\n",
       "      <td>2</td>\n",
       "      <td>2007</td>\n",
       "      <td>3</td>\n",
       "      <td>Apartment</td>\n",
       "      <td>19</td>\n",
       "      <td>649.80</td>\n",
       "      <td>$ 177,555.06</td>\n",
       "      <td>C0079</td>\n",
       "      <td>Individual</td>\n",
       "      <td>...</td>\n",
       "      <td>1947.0</td>\n",
       "      <td>5.0</td>\n",
       "      <td>24.0</td>\n",
       "      <td>M</td>\n",
       "      <td>Canada</td>\n",
       "      <td>NaN</td>\n",
       "      <td>Investment</td>\n",
       "      <td>5</td>\n",
       "      <td>No</td>\n",
       "      <td>Website</td>\n",
       "    </tr>\n",
       "    <tr>\n",
       "      <th>147</th>\n",
       "      <td>2021</td>\n",
       "      <td>2</td>\n",
       "      <td>2007</td>\n",
       "      <td>4</td>\n",
       "      <td>Apartment</td>\n",
       "      <td>21</td>\n",
       "      <td>785.48</td>\n",
       "      <td>$ 217,748.48</td>\n",
       "      <td>C0079</td>\n",
       "      <td>Individual</td>\n",
       "      <td>...</td>\n",
       "      <td>1947.0</td>\n",
       "      <td>5.0</td>\n",
       "      <td>24.0</td>\n",
       "      <td>M</td>\n",
       "      <td>Canada</td>\n",
       "      <td>NaN</td>\n",
       "      <td>Investment</td>\n",
       "      <td>5</td>\n",
       "      <td>No</td>\n",
       "      <td>Website</td>\n",
       "    </tr>\n",
       "    <tr>\n",
       "      <th>148</th>\n",
       "      <td>2027</td>\n",
       "      <td>2</td>\n",
       "      <td>2007</td>\n",
       "      <td>4</td>\n",
       "      <td>Apartment</td>\n",
       "      <td>27</td>\n",
       "      <td>785.48</td>\n",
       "      <td>$ 247,739.44</td>\n",
       "      <td>C0079</td>\n",
       "      <td>Individual</td>\n",
       "      <td>...</td>\n",
       "      <td>1947.0</td>\n",
       "      <td>5.0</td>\n",
       "      <td>24.0</td>\n",
       "      <td>M</td>\n",
       "      <td>Canada</td>\n",
       "      <td>NaN</td>\n",
       "      <td>Investment</td>\n",
       "      <td>5</td>\n",
       "      <td>No</td>\n",
       "      <td>Website</td>\n",
       "    </tr>\n",
       "    <tr>\n",
       "      <th>149</th>\n",
       "      <td>2052</td>\n",
       "      <td>2</td>\n",
       "      <td>2007</td>\n",
       "      <td>3</td>\n",
       "      <td>Apartment</td>\n",
       "      <td>52</td>\n",
       "      <td>1615.29</td>\n",
       "      <td>$ 484,458.03</td>\n",
       "      <td>C0079</td>\n",
       "      <td>Individual</td>\n",
       "      <td>...</td>\n",
       "      <td>1947.0</td>\n",
       "      <td>5.0</td>\n",
       "      <td>24.0</td>\n",
       "      <td>M</td>\n",
       "      <td>Canada</td>\n",
       "      <td>NaN</td>\n",
       "      <td>Investment</td>\n",
       "      <td>5</td>\n",
       "      <td>No</td>\n",
       "      <td>Website</td>\n",
       "    </tr>\n",
       "    <tr>\n",
       "      <th>150</th>\n",
       "      <td>3006</td>\n",
       "      <td>3</td>\n",
       "      <td>2007</td>\n",
       "      <td>2</td>\n",
       "      <td>Apartment</td>\n",
       "      <td>6</td>\n",
       "      <td>1132.06</td>\n",
       "      <td>$ 356,506.37</td>\n",
       "      <td>C0079</td>\n",
       "      <td>Individual</td>\n",
       "      <td>...</td>\n",
       "      <td>1947.0</td>\n",
       "      <td>5.0</td>\n",
       "      <td>24.0</td>\n",
       "      <td>M</td>\n",
       "      <td>Canada</td>\n",
       "      <td>NaN</td>\n",
       "      <td>Investment</td>\n",
       "      <td>5</td>\n",
       "      <td>No</td>\n",
       "      <td>Website</td>\n",
       "    </tr>\n",
       "    <tr>\n",
       "      <th>151</th>\n",
       "      <td>3044</td>\n",
       "      <td>3</td>\n",
       "      <td>2007</td>\n",
       "      <td>3</td>\n",
       "      <td>Apartment</td>\n",
       "      <td>44</td>\n",
       "      <td>720.38</td>\n",
       "      <td>$ 197,869.36</td>\n",
       "      <td>C0079</td>\n",
       "      <td>Individual</td>\n",
       "      <td>...</td>\n",
       "      <td>1947.0</td>\n",
       "      <td>5.0</td>\n",
       "      <td>24.0</td>\n",
       "      <td>M</td>\n",
       "      <td>Canada</td>\n",
       "      <td>NaN</td>\n",
       "      <td>Investment</td>\n",
       "      <td>5</td>\n",
       "      <td>No</td>\n",
       "      <td>Website</td>\n",
       "    </tr>\n",
       "    <tr>\n",
       "      <th>152</th>\n",
       "      <td>4025</td>\n",
       "      <td>4</td>\n",
       "      <td>2007</td>\n",
       "      <td>12</td>\n",
       "      <td>Apartment</td>\n",
       "      <td>25</td>\n",
       "      <td>733.19</td>\n",
       "      <td>$ 236,608.95</td>\n",
       "      <td>C0079</td>\n",
       "      <td>Individual</td>\n",
       "      <td>...</td>\n",
       "      <td>1947.0</td>\n",
       "      <td>5.0</td>\n",
       "      <td>24.0</td>\n",
       "      <td>M</td>\n",
       "      <td>Canada</td>\n",
       "      <td>NaN</td>\n",
       "      <td>Investment</td>\n",
       "      <td>5</td>\n",
       "      <td>No</td>\n",
       "      <td>Website</td>\n",
       "    </tr>\n",
       "    <tr>\n",
       "      <th>174</th>\n",
       "      <td>1023</td>\n",
       "      <td>1</td>\n",
       "      <td>2005</td>\n",
       "      <td>4</td>\n",
       "      <td>Apartment</td>\n",
       "      <td>23</td>\n",
       "      <td>782.25</td>\n",
       "      <td>$ 261,579.89</td>\n",
       "      <td>C0021</td>\n",
       "      <td>Individual</td>\n",
       "      <td>...</td>\n",
       "      <td>1932.0</td>\n",
       "      <td>6.0</td>\n",
       "      <td>13.0</td>\n",
       "      <td>F</td>\n",
       "      <td>Russia</td>\n",
       "      <td>NaN</td>\n",
       "      <td>Investment</td>\n",
       "      <td>3</td>\n",
       "      <td>No</td>\n",
       "      <td>Website</td>\n",
       "    </tr>\n",
       "    <tr>\n",
       "      <th>178</th>\n",
       "      <td>1005</td>\n",
       "      <td>1</td>\n",
       "      <td>2004</td>\n",
       "      <td>3</td>\n",
       "      <td>Office</td>\n",
       "      <td>5</td>\n",
       "      <td>410.71</td>\n",
       "      <td>$ 117,564.07</td>\n",
       "      <td>C0001</td>\n",
       "      <td>Firm</td>\n",
       "      <td>...</td>\n",
       "      <td>NaN</td>\n",
       "      <td>NaN</td>\n",
       "      <td>NaN</td>\n",
       "      <td>NaN</td>\n",
       "      <td>USA</td>\n",
       "      <td>California</td>\n",
       "      <td>Investment</td>\n",
       "      <td>5</td>\n",
       "      <td>No</td>\n",
       "      <td>Agency</td>\n",
       "    </tr>\n",
       "    <tr>\n",
       "      <th>179</th>\n",
       "      <td>1009</td>\n",
       "      <td>1</td>\n",
       "      <td>2004</td>\n",
       "      <td>11</td>\n",
       "      <td>Office</td>\n",
       "      <td>9</td>\n",
       "      <td>1200.82</td>\n",
       "      <td>$ 317,196.40</td>\n",
       "      <td>C0012</td>\n",
       "      <td>Firm</td>\n",
       "      <td>...</td>\n",
       "      <td>NaN</td>\n",
       "      <td>NaN</td>\n",
       "      <td>NaN</td>\n",
       "      <td>NaN</td>\n",
       "      <td>USA</td>\n",
       "      <td>Nevada</td>\n",
       "      <td>Investment</td>\n",
       "      <td>5</td>\n",
       "      <td>No</td>\n",
       "      <td>Website</td>\n",
       "    </tr>\n",
       "    <tr>\n",
       "      <th>180</th>\n",
       "      <td>1009</td>\n",
       "      <td>1</td>\n",
       "      <td>2004</td>\n",
       "      <td>11</td>\n",
       "      <td>Office</td>\n",
       "      <td>10</td>\n",
       "      <td>800.96</td>\n",
       "      <td>$ 264,142.16</td>\n",
       "      <td>C0012</td>\n",
       "      <td>Firm</td>\n",
       "      <td>...</td>\n",
       "      <td>NaN</td>\n",
       "      <td>NaN</td>\n",
       "      <td>NaN</td>\n",
       "      <td>NaN</td>\n",
       "      <td>USA</td>\n",
       "      <td>Nevada</td>\n",
       "      <td>Investment</td>\n",
       "      <td>4</td>\n",
       "      <td>No</td>\n",
       "      <td>Website</td>\n",
       "    </tr>\n",
       "    <tr>\n",
       "      <th>181</th>\n",
       "      <td>1011</td>\n",
       "      <td>1</td>\n",
       "      <td>2005</td>\n",
       "      <td>9</td>\n",
       "      <td>Office</td>\n",
       "      <td>11</td>\n",
       "      <td>827.87</td>\n",
       "      <td>$ 222,947.21</td>\n",
       "      <td>C0025</td>\n",
       "      <td>Firm</td>\n",
       "      <td>...</td>\n",
       "      <td>NaN</td>\n",
       "      <td>NaN</td>\n",
       "      <td>NaN</td>\n",
       "      <td>NaN</td>\n",
       "      <td>USA</td>\n",
       "      <td>Nevada</td>\n",
       "      <td>Investment</td>\n",
       "      <td>5</td>\n",
       "      <td>Yes</td>\n",
       "      <td>Website</td>\n",
       "    </tr>\n",
       "    <tr>\n",
       "      <th>182</th>\n",
       "      <td>1007</td>\n",
       "      <td>1</td>\n",
       "      <td>2005</td>\n",
       "      <td>12</td>\n",
       "      <td>Apartment</td>\n",
       "      <td>7</td>\n",
       "      <td>775.69</td>\n",
       "      <td>$ 250,312.53</td>\n",
       "      <td>C0029</td>\n",
       "      <td>Firm</td>\n",
       "      <td>...</td>\n",
       "      <td>NaN</td>\n",
       "      <td>NaN</td>\n",
       "      <td>NaN</td>\n",
       "      <td>NaN</td>\n",
       "      <td>USA</td>\n",
       "      <td>Nevada</td>\n",
       "      <td>Investment</td>\n",
       "      <td>1</td>\n",
       "      <td>Yes</td>\n",
       "      <td>Website</td>\n",
       "    </tr>\n",
       "    <tr>\n",
       "      <th>183</th>\n",
       "      <td>1008</td>\n",
       "      <td>1</td>\n",
       "      <td>2005</td>\n",
       "      <td>12</td>\n",
       "      <td>Office</td>\n",
       "      <td>8</td>\n",
       "      <td>775.69</td>\n",
       "      <td>$ 246,050.40</td>\n",
       "      <td>C0029</td>\n",
       "      <td>Firm</td>\n",
       "      <td>...</td>\n",
       "      <td>NaN</td>\n",
       "      <td>NaN</td>\n",
       "      <td>NaN</td>\n",
       "      <td>NaN</td>\n",
       "      <td>USA</td>\n",
       "      <td>California</td>\n",
       "      <td>Investment</td>\n",
       "      <td>1</td>\n",
       "      <td>Yes</td>\n",
       "      <td>Website</td>\n",
       "    </tr>\n",
       "    <tr>\n",
       "      <th>184</th>\n",
       "      <td>2038</td>\n",
       "      <td>2</td>\n",
       "      <td>2006</td>\n",
       "      <td>10</td>\n",
       "      <td>Apartment</td>\n",
       "      <td>38</td>\n",
       "      <td>1604.75</td>\n",
       "      <td>$ 529,317.28</td>\n",
       "      <td>C0055</td>\n",
       "      <td>Firm</td>\n",
       "      <td>...</td>\n",
       "      <td>NaN</td>\n",
       "      <td>NaN</td>\n",
       "      <td>NaN</td>\n",
       "      <td>NaN</td>\n",
       "      <td>USA</td>\n",
       "      <td>California</td>\n",
       "      <td>Investment</td>\n",
       "      <td>5</td>\n",
       "      <td>No</td>\n",
       "      <td>Website</td>\n",
       "    </tr>\n",
       "    <tr>\n",
       "      <th>185</th>\n",
       "      <td>2001</td>\n",
       "      <td>2</td>\n",
       "      <td>2004</td>\n",
       "      <td>3</td>\n",
       "      <td>Apartment</td>\n",
       "      <td>1</td>\n",
       "      <td>587.28</td>\n",
       "      <td>$ 169,158.29</td>\n",
       "      <td>C0121</td>\n",
       "      <td>Firm</td>\n",
       "      <td>...</td>\n",
       "      <td>NaN</td>\n",
       "      <td>NaN</td>\n",
       "      <td>NaN</td>\n",
       "      <td>NaN</td>\n",
       "      <td>USA</td>\n",
       "      <td>California</td>\n",
       "      <td>Home</td>\n",
       "      <td>3</td>\n",
       "      <td>Yes</td>\n",
       "      <td>Website</td>\n",
       "    </tr>\n",
       "    <tr>\n",
       "      <th>186</th>\n",
       "      <td>1013</td>\n",
       "      <td>1</td>\n",
       "      <td>2005</td>\n",
       "      <td>7</td>\n",
       "      <td>Apartment</td>\n",
       "      <td>13</td>\n",
       "      <td>756.21</td>\n",
       "      <td>$ 206,958.71</td>\n",
       "      <td>C0174</td>\n",
       "      <td>Firm</td>\n",
       "      <td>...</td>\n",
       "      <td>NaN</td>\n",
       "      <td>NaN</td>\n",
       "      <td>NaN</td>\n",
       "      <td>NaN</td>\n",
       "      <td>USA</td>\n",
       "      <td>California</td>\n",
       "      <td>Investment</td>\n",
       "      <td>5</td>\n",
       "      <td>No</td>\n",
       "      <td>Website</td>\n",
       "    </tr>\n",
       "    <tr>\n",
       "      <th>187</th>\n",
       "      <td>1014</td>\n",
       "      <td>1</td>\n",
       "      <td>2005</td>\n",
       "      <td>7</td>\n",
       "      <td>Apartment</td>\n",
       "      <td>14</td>\n",
       "      <td>743.09</td>\n",
       "      <td>$ 206,445.42</td>\n",
       "      <td>C0174</td>\n",
       "      <td>Firm</td>\n",
       "      <td>...</td>\n",
       "      <td>NaN</td>\n",
       "      <td>NaN</td>\n",
       "      <td>NaN</td>\n",
       "      <td>NaN</td>\n",
       "      <td>USA</td>\n",
       "      <td>California</td>\n",
       "      <td>Investment</td>\n",
       "      <td>5</td>\n",
       "      <td>No</td>\n",
       "      <td>Website</td>\n",
       "    </tr>\n",
       "    <tr>\n",
       "      <th>188</th>\n",
       "      <td>1019</td>\n",
       "      <td>1</td>\n",
       "      <td>2005</td>\n",
       "      <td>7</td>\n",
       "      <td>Apartment</td>\n",
       "      <td>19</td>\n",
       "      <td>827.87</td>\n",
       "      <td>$ 239,341.58</td>\n",
       "      <td>C0174</td>\n",
       "      <td>Firm</td>\n",
       "      <td>...</td>\n",
       "      <td>NaN</td>\n",
       "      <td>NaN</td>\n",
       "      <td>NaN</td>\n",
       "      <td>NaN</td>\n",
       "      <td>USA</td>\n",
       "      <td>California</td>\n",
       "      <td>Investment</td>\n",
       "      <td>5</td>\n",
       "      <td>No</td>\n",
       "      <td>Website</td>\n",
       "    </tr>\n",
       "    <tr>\n",
       "      <th>189</th>\n",
       "      <td>1020</td>\n",
       "      <td>1</td>\n",
       "      <td>2005</td>\n",
       "      <td>7</td>\n",
       "      <td>Apartment</td>\n",
       "      <td>20</td>\n",
       "      <td>1160.36</td>\n",
       "      <td>$ 398,903.42</td>\n",
       "      <td>C0174</td>\n",
       "      <td>Firm</td>\n",
       "      <td>...</td>\n",
       "      <td>NaN</td>\n",
       "      <td>NaN</td>\n",
       "      <td>NaN</td>\n",
       "      <td>NaN</td>\n",
       "      <td>USA</td>\n",
       "      <td>California</td>\n",
       "      <td>Investment</td>\n",
       "      <td>5</td>\n",
       "      <td>No</td>\n",
       "      <td>Website</td>\n",
       "    </tr>\n",
       "    <tr>\n",
       "      <th>190</th>\n",
       "      <td>1022</td>\n",
       "      <td>1</td>\n",
       "      <td>2005</td>\n",
       "      <td>7</td>\n",
       "      <td>Apartment</td>\n",
       "      <td>22</td>\n",
       "      <td>743.09</td>\n",
       "      <td>$ 210,745.17</td>\n",
       "      <td>C0174</td>\n",
       "      <td>Firm</td>\n",
       "      <td>...</td>\n",
       "      <td>NaN</td>\n",
       "      <td>NaN</td>\n",
       "      <td>NaN</td>\n",
       "      <td>NaN</td>\n",
       "      <td>USA</td>\n",
       "      <td>California</td>\n",
       "      <td>Investment</td>\n",
       "      <td>5</td>\n",
       "      <td>No</td>\n",
       "      <td>Website</td>\n",
       "    </tr>\n",
       "    <tr>\n",
       "      <th>191</th>\n",
       "      <td>1028</td>\n",
       "      <td>1</td>\n",
       "      <td>2005</td>\n",
       "      <td>7</td>\n",
       "      <td>Apartment</td>\n",
       "      <td>28</td>\n",
       "      <td>1160.36</td>\n",
       "      <td>$ 331,154.88</td>\n",
       "      <td>C0174</td>\n",
       "      <td>Firm</td>\n",
       "      <td>...</td>\n",
       "      <td>NaN</td>\n",
       "      <td>NaN</td>\n",
       "      <td>NaN</td>\n",
       "      <td>NaN</td>\n",
       "      <td>USA</td>\n",
       "      <td>California</td>\n",
       "      <td>Investment</td>\n",
       "      <td>5</td>\n",
       "      <td>No</td>\n",
       "      <td>Website</td>\n",
       "    </tr>\n",
       "    <tr>\n",
       "      <th>192</th>\n",
       "      <td>1034</td>\n",
       "      <td>1</td>\n",
       "      <td>2005</td>\n",
       "      <td>7</td>\n",
       "      <td>Apartment</td>\n",
       "      <td>34</td>\n",
       "      <td>625.80</td>\n",
       "      <td>$ 204,434.68</td>\n",
       "      <td>C0174</td>\n",
       "      <td>Firm</td>\n",
       "      <td>...</td>\n",
       "      <td>NaN</td>\n",
       "      <td>NaN</td>\n",
       "      <td>NaN</td>\n",
       "      <td>NaN</td>\n",
       "      <td>USA</td>\n",
       "      <td>California</td>\n",
       "      <td>Investment</td>\n",
       "      <td>5</td>\n",
       "      <td>No</td>\n",
       "      <td>Website</td>\n",
       "    </tr>\n",
       "    <tr>\n",
       "      <th>193</th>\n",
       "      <td>1037</td>\n",
       "      <td>1</td>\n",
       "      <td>2005</td>\n",
       "      <td>7</td>\n",
       "      <td>Apartment</td>\n",
       "      <td>37</td>\n",
       "      <td>756.21</td>\n",
       "      <td>$ 189,194.31</td>\n",
       "      <td>C0174</td>\n",
       "      <td>Firm</td>\n",
       "      <td>...</td>\n",
       "      <td>NaN</td>\n",
       "      <td>NaN</td>\n",
       "      <td>NaN</td>\n",
       "      <td>NaN</td>\n",
       "      <td>USA</td>\n",
       "      <td>California</td>\n",
       "      <td>Investment</td>\n",
       "      <td>5</td>\n",
       "      <td>No</td>\n",
       "      <td>Website</td>\n",
       "    </tr>\n",
       "    <tr>\n",
       "      <th>194</th>\n",
       "      <td>1042</td>\n",
       "      <td>1</td>\n",
       "      <td>2005</td>\n",
       "      <td>7</td>\n",
       "      <td>Apartment</td>\n",
       "      <td>42</td>\n",
       "      <td>625.80</td>\n",
       "      <td>$ 204,027.09</td>\n",
       "      <td>C0174</td>\n",
       "      <td>Firm</td>\n",
       "      <td>...</td>\n",
       "      <td>NaN</td>\n",
       "      <td>NaN</td>\n",
       "      <td>NaN</td>\n",
       "      <td>NaN</td>\n",
       "      <td>USA</td>\n",
       "      <td>California</td>\n",
       "      <td>Investment</td>\n",
       "      <td>5</td>\n",
       "      <td>No</td>\n",
       "      <td>Website</td>\n",
       "    </tr>\n",
       "  </tbody>\n",
       "</table>\n",
       "<p>31 rows × 24 columns</p>\n",
       "</div>"
      ],
      "text/plain": [
       "       ID  Building  Year_sale  Month_sale Type_property  Property  Area_ft  \\\n",
       "41   1032         1       2005           1     Apartment        32   782.25   \n",
       "58   2025         2       2007           2     Apartment        25   927.83   \n",
       "64   2005         2       2006           9     Apartment         5   785.48   \n",
       "76   3049         3       2007           4     Apartment        49  1283.45   \n",
       "114  2003         2       2006          12     Apartment         3   927.08   \n",
       "139  3050         3       2006          11     Apartment        50   977.87   \n",
       "146  2019         2       2007           3     Apartment        19   649.80   \n",
       "147  2021         2       2007           4     Apartment        21   785.48   \n",
       "148  2027         2       2007           4     Apartment        27   785.48   \n",
       "149  2052         2       2007           3     Apartment        52  1615.29   \n",
       "150  3006         3       2007           2     Apartment         6  1132.06   \n",
       "151  3044         3       2007           3     Apartment        44   720.38   \n",
       "152  4025         4       2007          12     Apartment        25   733.19   \n",
       "174  1023         1       2005           4     Apartment        23   782.25   \n",
       "178  1005         1       2004           3        Office         5   410.71   \n",
       "179  1009         1       2004          11        Office         9  1200.82   \n",
       "180  1009         1       2004          11        Office        10   800.96   \n",
       "181  1011         1       2005           9        Office        11   827.87   \n",
       "182  1007         1       2005          12     Apartment         7   775.69   \n",
       "183  1008         1       2005          12        Office         8   775.69   \n",
       "184  2038         2       2006          10     Apartment        38  1604.75   \n",
       "185  2001         2       2004           3     Apartment         1   587.28   \n",
       "186  1013         1       2005           7     Apartment        13   756.21   \n",
       "187  1014         1       2005           7     Apartment        14   743.09   \n",
       "188  1019         1       2005           7     Apartment        19   827.87   \n",
       "189  1020         1       2005           7     Apartment        20  1160.36   \n",
       "190  1022         1       2005           7     Apartment        22   743.09   \n",
       "191  1028         1       2005           7     Apartment        28  1160.36   \n",
       "192  1034         1       2005           7     Apartment        34   625.80   \n",
       "193  1037         1       2005           7     Apartment        37   756.21   \n",
       "194  1042         1       2005           7     Apartment        42   625.80   \n",
       "\n",
       "              Price CustomerID      Entity  ...       Y     M     D Gender  \\\n",
       "41    $ 215,410.28       C0015  Individual  ...  1969.0  10.0  30.0      F   \n",
       "58    $ 315,733.15       C0070  Individual  ...  1967.0   6.0  13.0      F   \n",
       "64    $ 257,183.48       C0047  Individual  ...  1965.0   1.0  11.0      F   \n",
       "76    $ 338,181.18       C0084  Individual  ...  1965.0   5.0  12.0      M   \n",
       "114   $ 289,727.99       C0063  Individual  ...  1955.0  12.0   2.0      M   \n",
       "139   $ 248,274.31       C0059  Individual  ...  1949.0   6.0  22.0      F   \n",
       "146   $ 177,555.06       C0079  Individual  ...  1947.0   5.0  24.0      M   \n",
       "147   $ 217,748.48       C0079  Individual  ...  1947.0   5.0  24.0      M   \n",
       "148   $ 247,739.44       C0079  Individual  ...  1947.0   5.0  24.0      M   \n",
       "149   $ 484,458.03       C0079  Individual  ...  1947.0   5.0  24.0      M   \n",
       "150   $ 356,506.37       C0079  Individual  ...  1947.0   5.0  24.0      M   \n",
       "151   $ 197,869.36       C0079  Individual  ...  1947.0   5.0  24.0      M   \n",
       "152   $ 236,608.95       C0079  Individual  ...  1947.0   5.0  24.0      M   \n",
       "174   $ 261,579.89       C0021  Individual  ...  1932.0   6.0  13.0      F   \n",
       "178   $ 117,564.07       C0001        Firm  ...     NaN   NaN   NaN    NaN   \n",
       "179   $ 317,196.40       C0012        Firm  ...     NaN   NaN   NaN    NaN   \n",
       "180   $ 264,142.16       C0012        Firm  ...     NaN   NaN   NaN    NaN   \n",
       "181   $ 222,947.21       C0025        Firm  ...     NaN   NaN   NaN    NaN   \n",
       "182   $ 250,312.53       C0029        Firm  ...     NaN   NaN   NaN    NaN   \n",
       "183   $ 246,050.40       C0029        Firm  ...     NaN   NaN   NaN    NaN   \n",
       "184   $ 529,317.28       C0055        Firm  ...     NaN   NaN   NaN    NaN   \n",
       "185   $ 169,158.29       C0121        Firm  ...     NaN   NaN   NaN    NaN   \n",
       "186   $ 206,958.71       C0174        Firm  ...     NaN   NaN   NaN    NaN   \n",
       "187   $ 206,445.42       C0174        Firm  ...     NaN   NaN   NaN    NaN   \n",
       "188   $ 239,341.58       C0174        Firm  ...     NaN   NaN   NaN    NaN   \n",
       "189   $ 398,903.42       C0174        Firm  ...     NaN   NaN   NaN    NaN   \n",
       "190   $ 210,745.17       C0174        Firm  ...     NaN   NaN   NaN    NaN   \n",
       "191   $ 331,154.88       C0174        Firm  ...     NaN   NaN   NaN    NaN   \n",
       "192   $ 204,434.68       C0174        Firm  ...     NaN   NaN   NaN    NaN   \n",
       "193   $ 189,194.31       C0174        Firm  ...     NaN   NaN   NaN    NaN   \n",
       "194   $ 204,027.09       C0174        Firm  ...     NaN   NaN   NaN    NaN   \n",
       "\n",
       "     Country       State     Purpose Deal Mortgage   Source  \n",
       "41   Belgium         NaN        Home    2       No   Agency  \n",
       "58    Russia         NaN        Home    1       No   Agency  \n",
       "64   Denmark         NaN  Investment    1       No   Agency  \n",
       "76    Mexico         NaN        Home    3       No   Agency  \n",
       "114   Russia         NaN  Investment    3       No   Agency  \n",
       "139   Russia         NaN        Home    3      Yes   Agency  \n",
       "146   Canada         NaN  Investment    5       No  Website  \n",
       "147   Canada         NaN  Investment    5       No  Website  \n",
       "148   Canada         NaN  Investment    5       No  Website  \n",
       "149   Canada         NaN  Investment    5       No  Website  \n",
       "150   Canada         NaN  Investment    5       No  Website  \n",
       "151   Canada         NaN  Investment    5       No  Website  \n",
       "152   Canada         NaN  Investment    5       No  Website  \n",
       "174   Russia         NaN  Investment    3       No  Website  \n",
       "178      USA  California  Investment    5       No   Agency  \n",
       "179      USA      Nevada  Investment    5       No  Website  \n",
       "180      USA      Nevada  Investment    4       No  Website  \n",
       "181      USA      Nevada  Investment    5      Yes  Website  \n",
       "182      USA      Nevada  Investment    1      Yes  Website  \n",
       "183      USA  California  Investment    1      Yes  Website  \n",
       "184      USA  California  Investment    5       No  Website  \n",
       "185      USA  California        Home    3      Yes  Website  \n",
       "186     USA   California  Investment    5       No  Website  \n",
       "187     USA   California  Investment    5       No  Website  \n",
       "188     USA   California  Investment    5       No  Website  \n",
       "189     USA   California  Investment    5       No  Website  \n",
       "190     USA   California  Investment    5       No  Website  \n",
       "191     USA   California  Investment    5       No  Website  \n",
       "192     USA   California  Investment    5       No  Website  \n",
       "193     USA   California  Investment    5       No  Website  \n",
       "194     USA   California  Investment    5       No  Website  \n",
       "\n",
       "[31 rows x 24 columns]"
      ]
     },
     "execution_count": 408,
     "metadata": {},
     "output_type": "execute_result"
    }
   ],
   "source": [
    "# анализируем строки с пропусками (наш датасет не большой и мы имеем эту возможность)\n",
    "df[pd.isnull(df).any(axis=1)]"
   ]
  },
  {
   "cell_type": "markdown",
   "metadata": {},
   "source": [
    "### пропуски относительно штата. относятся к странам, в которых нет разделения на штаты. Пропуски возраста не пересекаются с пропусками штата. Но для всех пропусков возраста тип Entity является Firm. Если я правильно поняла, то это покупка от лица фирмы. такой тип покупки составляет у нас всего 8%. Прежде чем предпринимать что-либо необходимо оценить корреляцию между данными."
   ]
  },
  {
   "cell_type": "code",
   "execution_count": 409,
   "metadata": {},
   "outputs": [
    {
     "data": {
      "text/plain": [
       "460001.26    2\n",
       "246172.68    1\n",
       "200148.89    1\n",
       "218585.92    1\n",
       "198841.70    1\n",
       "            ..\n",
       "464549.19    1\n",
       "310577.04    1\n",
       "205098.21    1\n",
       "248525.12    1\n",
       "204027.09    1\n",
       "Name: Price, Length: 194, dtype: int64"
      ]
     },
     "execution_count": 409,
     "metadata": {},
     "output_type": "execute_result"
    }
   ],
   "source": [
    "#убираем из прайса знак валюты и пробелы и меняем тип\n",
    "df.Price = df.Price.str.replace(\n",
    "    r'$', '', regex=True\n",
    ").str.replace(\n",
    "    r',', '').str.strip()\n",
    "df.Price = df.Price.astype(float)\n",
    "df.Price.value_counts()"
   ]
  },
  {
   "cell_type": "code",
   "execution_count": 410,
   "metadata": {},
   "outputs": [
    {
     "data": {
      "text/plain": [
       "0    178\n",
       "1     17\n",
       "Name: Entity, dtype: int64"
      ]
     },
     "execution_count": 410,
     "metadata": {},
     "output_type": "execute_result"
    }
   ],
   "source": [
    "df.Entity = df.Entity. replace(['Individual', 'Firm'], [0, 1])\n",
    "df.Entity.value_counts()"
   ]
  },
  {
   "cell_type": "code",
   "execution_count": 411,
   "metadata": {},
   "outputs": [
    {
     "data": {
      "text/plain": [
       "-0.06197957381519643"
      ]
     },
     "execution_count": 411,
     "metadata": {},
     "output_type": "execute_result"
    }
   ],
   "source": [
    "corr_1 = df.Price.corr(df.Entity)\n",
    "corr_1"
   ]
  },
  {
   "cell_type": "markdown",
   "metadata": {},
   "source": [
    "### Связь очень слабая, не оказывает влияние на наши данные. удаляем данные, так как все пропуски связаны с показателем Firm, то убираем строки и столбец Entity"
   ]
  },
  {
   "cell_type": "code",
   "execution_count": 412,
   "metadata": {},
   "outputs": [],
   "source": [
    "df.dropna (subset=['Y'], inplace = True)\n",
    "df.drop(columns = ['Entity'], axis = 1, inplace = True)"
   ]
  },
  {
   "cell_type": "code",
   "execution_count": 413,
   "metadata": {},
   "outputs": [
    {
     "data": {
      "text/plain": [
       "ID                0\n",
       "Building          0\n",
       "Year_sale         0\n",
       "Month_sale        0\n",
       "Type_property     0\n",
       "Property          0\n",
       "Area_ft           0\n",
       "Price             0\n",
       "CustomerID        0\n",
       "Name              0\n",
       "Surname           0\n",
       "Age_sale          0\n",
       "Age_var           0\n",
       "Y                 0\n",
       "M                 0\n",
       "D                 0\n",
       "Gender            0\n",
       "Country           0\n",
       "State            14\n",
       "Purpose           0\n",
       "Deal              0\n",
       "Mortgage          0\n",
       "Source            0\n",
       "dtype: int64"
      ]
     },
     "execution_count": 413,
     "metadata": {},
     "output_type": "execute_result"
    }
   ],
   "source": [
    "df.isnull().sum()"
   ]
  },
  {
   "cell_type": "markdown",
   "metadata": {},
   "source": [
    "## Начнем анализ портрета целевого клиента. Для начала разграничим задачу на подзадачи: человек (пол, возраст на момент покупки), помещение (площадь, расположение (страна), количество комнат), обстоятельства покупки (цель, ипотека, путь). И постараемся выявит связи, которые позволят нам увидеть наиболее выгодные пути работы с клиентами."
   ]
  },
  {
   "cell_type": "code",
   "execution_count": 414,
   "metadata": {},
   "outputs": [
    {
     "data": {
      "text/html": [
       "<div>\n",
       "<style scoped>\n",
       "    .dataframe tbody tr th:only-of-type {\n",
       "        vertical-align: middle;\n",
       "    }\n",
       "\n",
       "    .dataframe tbody tr th {\n",
       "        vertical-align: top;\n",
       "    }\n",
       "\n",
       "    .dataframe thead th {\n",
       "        text-align: right;\n",
       "    }\n",
       "</style>\n",
       "<table border=\"1\" class=\"dataframe\">\n",
       "  <thead>\n",
       "    <tr style=\"text-align: right;\">\n",
       "      <th></th>\n",
       "      <th>ID</th>\n",
       "      <th>Building</th>\n",
       "      <th>Year_sale</th>\n",
       "      <th>Month_sale</th>\n",
       "      <th>Property</th>\n",
       "      <th>Area_ft</th>\n",
       "      <th>Price</th>\n",
       "      <th>Age_sale</th>\n",
       "      <th>Y</th>\n",
       "      <th>M</th>\n",
       "      <th>D</th>\n",
       "      <th>Deal</th>\n",
       "    </tr>\n",
       "  </thead>\n",
       "  <tbody>\n",
       "    <tr>\n",
       "      <th>count</th>\n",
       "      <td>178.000000</td>\n",
       "      <td>178.000000</td>\n",
       "      <td>178.000000</td>\n",
       "      <td>178.000000</td>\n",
       "      <td>178.000000</td>\n",
       "      <td>178.000000</td>\n",
       "      <td>178.000000</td>\n",
       "      <td>178.000000</td>\n",
       "      <td>178.000000</td>\n",
       "      <td>178.000000</td>\n",
       "      <td>178.000000</td>\n",
       "      <td>178.000000</td>\n",
       "    </tr>\n",
       "    <tr>\n",
       "      <th>mean</th>\n",
       "      <td>2730.398876</td>\n",
       "      <td>2.702247</td>\n",
       "      <td>2006.477528</td>\n",
       "      <td>7.213483</td>\n",
       "      <td>28.151685</td>\n",
       "      <td>905.008596</td>\n",
       "      <td>270965.425730</td>\n",
       "      <td>46.151685</td>\n",
       "      <td>1960.325843</td>\n",
       "      <td>6.752809</td>\n",
       "      <td>15.449438</td>\n",
       "      <td>3.533708</td>\n",
       "    </tr>\n",
       "    <tr>\n",
       "      <th>std</th>\n",
       "      <td>1210.397158</td>\n",
       "      <td>1.210171</td>\n",
       "      <td>0.998332</td>\n",
       "      <td>3.439458</td>\n",
       "      <td>14.780294</td>\n",
       "      <td>259.384449</td>\n",
       "      <td>78525.152444</td>\n",
       "      <td>12.841692</td>\n",
       "      <td>12.835575</td>\n",
       "      <td>3.450312</td>\n",
       "      <td>8.457285</td>\n",
       "      <td>1.345211</td>\n",
       "    </tr>\n",
       "    <tr>\n",
       "      <th>min</th>\n",
       "      <td>1002.000000</td>\n",
       "      <td>1.000000</td>\n",
       "      <td>2004.000000</td>\n",
       "      <td>1.000000</td>\n",
       "      <td>1.000000</td>\n",
       "      <td>579.750000</td>\n",
       "      <td>153466.710000</td>\n",
       "      <td>19.000000</td>\n",
       "      <td>1931.000000</td>\n",
       "      <td>1.000000</td>\n",
       "      <td>1.000000</td>\n",
       "      <td>1.000000</td>\n",
       "    </tr>\n",
       "    <tr>\n",
       "      <th>25%</th>\n",
       "      <td>2015.250000</td>\n",
       "      <td>2.000000</td>\n",
       "      <td>2006.000000</td>\n",
       "      <td>4.000000</td>\n",
       "      <td>16.000000</td>\n",
       "      <td>738.245000</td>\n",
       "      <td>214826.330000</td>\n",
       "      <td>37.000000</td>\n",
       "      <td>1950.250000</td>\n",
       "      <td>4.000000</td>\n",
       "      <td>8.000000</td>\n",
       "      <td>3.000000</td>\n",
       "    </tr>\n",
       "    <tr>\n",
       "      <th>50%</th>\n",
       "      <td>3006.500000</td>\n",
       "      <td>3.000000</td>\n",
       "      <td>2007.000000</td>\n",
       "      <td>8.000000</td>\n",
       "      <td>28.000000</td>\n",
       "      <td>792.530000</td>\n",
       "      <td>245196.730000</td>\n",
       "      <td>45.000000</td>\n",
       "      <td>1962.000000</td>\n",
       "      <td>6.000000</td>\n",
       "      <td>15.000000</td>\n",
       "      <td>4.000000</td>\n",
       "    </tr>\n",
       "    <tr>\n",
       "      <th>75%</th>\n",
       "      <td>3053.750000</td>\n",
       "      <td>3.000000</td>\n",
       "      <td>2007.000000</td>\n",
       "      <td>10.000000</td>\n",
       "      <td>40.000000</td>\n",
       "      <td>1084.230000</td>\n",
       "      <td>309387.082500</td>\n",
       "      <td>55.000000</td>\n",
       "      <td>1969.750000</td>\n",
       "      <td>9.750000</td>\n",
       "      <td>23.750000</td>\n",
       "      <td>5.000000</td>\n",
       "    </tr>\n",
       "    <tr>\n",
       "      <th>max</th>\n",
       "      <td>5051.000000</td>\n",
       "      <td>5.000000</td>\n",
       "      <td>2010.000000</td>\n",
       "      <td>12.000000</td>\n",
       "      <td>59.000000</td>\n",
       "      <td>1942.500000</td>\n",
       "      <td>503790.230000</td>\n",
       "      <td>76.000000</td>\n",
       "      <td>1986.000000</td>\n",
       "      <td>15.000000</td>\n",
       "      <td>31.000000</td>\n",
       "      <td>5.000000</td>\n",
       "    </tr>\n",
       "  </tbody>\n",
       "</table>\n",
       "</div>"
      ],
      "text/plain": [
       "                ID    Building    Year_sale  Month_sale    Property  \\\n",
       "count   178.000000  178.000000   178.000000  178.000000  178.000000   \n",
       "mean   2730.398876    2.702247  2006.477528    7.213483   28.151685   \n",
       "std    1210.397158    1.210171     0.998332    3.439458   14.780294   \n",
       "min    1002.000000    1.000000  2004.000000    1.000000    1.000000   \n",
       "25%    2015.250000    2.000000  2006.000000    4.000000   16.000000   \n",
       "50%    3006.500000    3.000000  2007.000000    8.000000   28.000000   \n",
       "75%    3053.750000    3.000000  2007.000000   10.000000   40.000000   \n",
       "max    5051.000000    5.000000  2010.000000   12.000000   59.000000   \n",
       "\n",
       "           Area_ft          Price    Age_sale            Y           M  \\\n",
       "count   178.000000     178.000000  178.000000   178.000000  178.000000   \n",
       "mean    905.008596  270965.425730   46.151685  1960.325843    6.752809   \n",
       "std     259.384449   78525.152444   12.841692    12.835575    3.450312   \n",
       "min     579.750000  153466.710000   19.000000  1931.000000    1.000000   \n",
       "25%     738.245000  214826.330000   37.000000  1950.250000    4.000000   \n",
       "50%     792.530000  245196.730000   45.000000  1962.000000    6.000000   \n",
       "75%    1084.230000  309387.082500   55.000000  1969.750000    9.750000   \n",
       "max    1942.500000  503790.230000   76.000000  1986.000000   15.000000   \n",
       "\n",
       "                D        Deal  \n",
       "count  178.000000  178.000000  \n",
       "mean    15.449438    3.533708  \n",
       "std      8.457285    1.345211  \n",
       "min      1.000000    1.000000  \n",
       "25%      8.000000    3.000000  \n",
       "50%     15.000000    4.000000  \n",
       "75%     23.750000    5.000000  \n",
       "max     31.000000    5.000000  "
      ]
     },
     "execution_count": 414,
     "metadata": {},
     "output_type": "execute_result"
    }
   ],
   "source": [
    "df.describe()"
   ]
  },
  {
   "cell_type": "markdown",
   "metadata": {},
   "source": [
    "### человек"
   ]
  },
  {
   "cell_type": "code",
   "execution_count": 415,
   "metadata": {},
   "outputs": [
    {
     "data": {
      "text/plain": [
       "M    0.606742\n",
       "F    0.393258\n",
       "Name: Gender, dtype: float64"
      ]
     },
     "execution_count": 415,
     "metadata": {},
     "output_type": "execute_result"
    }
   ],
   "source": [
    "df.Gender.value_counts(normalize=True) # больше половины покупателей - мужчины"
   ]
  },
  {
   "cell_type": "code",
   "execution_count": 416,
   "metadata": {},
   "outputs": [
    {
     "ename": "TypeError",
     "evalue": "'str' object is not callable",
     "output_type": "error",
     "traceback": [
      "\u001b[1;31m---------------------------------------------------------------------------\u001b[0m",
      "\u001b[1;31mTypeError\u001b[0m                                 Traceback (most recent call last)",
      "\u001b[1;32mC:\\Users\\3940~1\\AppData\\Local\\Temp/ipykernel_1520/1345235312.py\u001b[0m in \u001b[0;36m<module>\u001b[1;34m\u001b[0m\n\u001b[0;32m      1\u001b[0m \u001b[0mmean_age_sale\u001b[0m \u001b[1;33m=\u001b[0m \u001b[0mdf\u001b[0m\u001b[1;33m.\u001b[0m\u001b[0mAge_sale\u001b[0m\u001b[1;33m.\u001b[0m\u001b[0mmean\u001b[0m\u001b[1;33m(\u001b[0m\u001b[1;33m)\u001b[0m\u001b[1;33m\u001b[0m\u001b[1;33m\u001b[0m\u001b[0m\n\u001b[0;32m      2\u001b[0m \u001b[0mmoda_age_sale\u001b[0m \u001b[1;33m=\u001b[0m \u001b[0mdf\u001b[0m\u001b[1;33m.\u001b[0m\u001b[0mAge_sale\u001b[0m\u001b[1;33m.\u001b[0m\u001b[0mmode\u001b[0m\u001b[1;33m(\u001b[0m\u001b[1;33m)\u001b[0m\u001b[1;33m\u001b[0m\u001b[1;33m\u001b[0m\u001b[0m\n\u001b[1;32m----> 3\u001b[1;33m \u001b[0mprint\u001b[0m \u001b[1;33m(\u001b[0m\u001b[1;34m\"Средний возраст на момент продажи: {0}\\n наиболее часто встречающийся возраст: {1}\"\u001b[0m\u001b[1;33m.\u001b[0m\u001b[0mformat\u001b[0m \u001b[1;33m(\u001b[0m\u001b[0mmean_age_sale\u001b[0m\u001b[1;33m,\u001b[0m \u001b[0mmoda_age_sale\u001b[0m\u001b[1;33m)\u001b[0m\u001b[1;33m)\u001b[0m\u001b[1;33m\u001b[0m\u001b[1;33m\u001b[0m\u001b[0m\n\u001b[0m",
      "\u001b[1;31mTypeError\u001b[0m: 'str' object is not callable"
     ]
    }
   ],
   "source": [
    "mean_age_sale = df.Age_sale.mean()\n",
    "moda_age_sale = df.Age_sale.mode()\n",
    "print (\"Средний возраст на момент продажи: {0}\\n наиболее часто встречающийся возраст: {1}\".format (mean_age_sale, moda_age_sale))"
   ]
  },
  {
   "cell_type": "code",
   "execution_count": 417,
   "metadata": {},
   "outputs": [
    {
     "data": {
      "image/png": "[encoded data removed]",
      "text/plain": [
       "<Figure size 432x288 with 1 Axes>"
      ]
     },
     "metadata": {
      "needs_background": "light"
     },
     "output_type": "display_data"
    }
   ],
   "source": [
    "sns_plot = sns.distplot(df.Age_sale)\n",
    "fig = sns_plot.get_figure()"
   ]
  },
  {
   "cell_type": "markdown",
   "metadata": {},
   "source": [
    "В данном случае наше распределение приближается к нормальному, однако"
   ]
  },
  {
   "cell_type": "code",
   "execution_count": 418,
   "metadata": {},
   "outputs": [
    {
     "data": {
      "text/plain": [
       "36-45    0.292135\n",
       "46-55    0.230337\n",
       "26-35    0.202247\n",
       "56-65    0.146067\n",
       "65+      0.101124\n",
       "18-25    0.028090\n",
       "Name: Age_var, dtype: float64"
      ]
     },
     "execution_count": 418,
     "metadata": {},
     "output_type": "execute_result"
    }
   ],
   "source": [
    "# для более эффективной оценки проанализируем интервалы возраста\n",
    "df.Age_var.value_counts(normalize=True)"
   ]
  },
  {
   "cell_type": "code",
   "execution_count": 419,
   "metadata": {},
   "outputs": [
    {
     "data": {
      "text/plain": [
       "3    52\n",
       "4    41\n",
       "2    36\n",
       "5    26\n",
       "6    18\n",
       "1     5\n",
       "Name: Age_var, dtype: int64"
      ]
     },
     "execution_count": 419,
     "metadata": {},
     "output_type": "execute_result"
    }
   ],
   "source": [
    "df.Age_var = df.Age_var. replace (['18-25', '26-35', '36-45', '46-55', '56-65', '65+'], [1, 2, 3, 4, 5, 6])\n",
    "df.Age_var=df.Age_var.astype(int)\n",
    "df.Age_var.value_counts()"
   ]
  },
  {
   "cell_type": "markdown",
   "metadata": {},
   "source": [
    "И посмотрим на распределение стоимости в зависимости от возраста"
   ]
  },
  {
   "cell_type": "code",
   "execution_count": 420,
   "metadata": {},
   "outputs": [
    {
     "data": {
      "image/png": "[encoded data removed]",
      "text/plain": [
       "<Figure size 432x288 with 1 Axes>"
      ]
     },
     "metadata": {
      "needs_background": "light"
     },
     "output_type": "display_data"
    }
   ],
   "source": [
    "_ = sns.scatterplot(x=df.Age_sale, y=df.Price)"
   ]
  },
  {
   "cell_type": "code",
   "execution_count": 421,
   "metadata": {},
   "outputs": [
    {
     "data": {
      "text/plain": [
       "6"
      ]
     },
     "execution_count": 421,
     "metadata": {},
     "output_type": "execute_result"
    }
   ],
   "source": [
    "top_price_age = df.loc[df.Price > df.Price.quantile(.90), 'Age_var']\n",
    "max_price_age = top_price_age.max()\n",
    "max_price_age"
   ]
  },
  {
   "cell_type": "code",
   "execution_count": 422,
   "metadata": {},
   "outputs": [
    {
     "data": {
      "text/plain": [
       "3.0"
      ]
     },
     "execution_count": 422,
     "metadata": {},
     "output_type": "execute_result"
    }
   ],
   "source": [
    "top_price_age = df.loc[df.Price > df.Price.quantile(.90), 'Age_var']\n",
    "mean_price_age = top_price_age.mean()\n",
    "mean_price_age"
   ]
  },
  {
   "cell_type": "code",
   "execution_count": 423,
   "metadata": {},
   "outputs": [
    {
     "data": {
      "text/plain": [
       "3.066666666666667"
      ]
     },
     "execution_count": 423,
     "metadata": {},
     "output_type": "execute_result"
    }
   ],
   "source": [
    "top_price_age = df.loc[df.Price > df.Price.quantile(.75), 'Age_var']\n",
    "mean_price_age = top_price_age.mean()\n",
    "mean_price_age"
   ]
  },
  {
   "cell_type": "markdown",
   "metadata": {},
   "source": [
    "#### По полученным данным можем определить нашего покупателя как мужчину 46-48 лет, но следует учитывать, что наиболее дорогую недвижимость, как и недвижимость покупают люди, средний возраст которых 36-45 лет."
   ]
  },
  {
   "cell_type": "markdown",
   "metadata": {},
   "source": [
    "### Параметры помещения"
   ]
  },
  {
   "cell_type": "code",
   "execution_count": 424,
   "metadata": {},
   "outputs": [
    {
     "data": {
      "text/plain": [
       "Apartment    0.988764\n",
       "Office       0.011236\n",
       "Name: Type_property, dtype: float64"
      ]
     },
     "execution_count": 424,
     "metadata": {},
     "output_type": "execute_result"
    }
   ],
   "source": [
    "df.Type_property.value_counts(normalize = True)"
   ]
  },
  {
   "cell_type": "code",
   "execution_count": 425,
   "metadata": {},
   "outputs": [
    {
     "data": {
      "text/plain": [
       "3    0.297753\n",
       "2    0.292135\n",
       "1    0.174157\n",
       "4    0.129213\n",
       "5    0.106742\n",
       "Name: Building, dtype: float64"
      ]
     },
     "execution_count": 425,
     "metadata": {},
     "output_type": "execute_result"
    }
   ],
   "source": [
    "df.Building.value_counts(normalize = True)"
   ]
  },
  {
   "cell_type": "code",
   "execution_count": 426,
   "metadata": {},
   "outputs": [
    {
     "data": {
      "image/png": "[encoded data removed]",
      "text/plain": [
       "<Figure size 432x288 with 1 Axes>"
      ]
     },
     "metadata": {
      "needs_background": "light"
     },
     "output_type": "display_data"
    }
   ],
   "source": [
    "sns_plot = sns.distplot(df.Building)\n",
    "fig = sns_plot.get_figure()"
   ]
  },
  {
   "cell_type": "code",
   "execution_count": 427,
   "metadata": {},
   "outputs": [
    {
     "data": {
      "text/plain": [
       "905.0085955056182"
      ]
     },
     "execution_count": 427,
     "metadata": {},
     "output_type": "execute_result"
    }
   ],
   "source": [
    "df.Area_ft.mean()"
   ]
  },
  {
   "cell_type": "code",
   "execution_count": 428,
   "metadata": {},
   "outputs": [
    {
     "data": {
      "text/plain": [
       "0    781.07\n",
       "dtype: float64"
      ]
     },
     "execution_count": 428,
     "metadata": {},
     "output_type": "execute_result"
    }
   ],
   "source": [
    "df.Area_ft.mode()"
   ]
  },
  {
   "cell_type": "code",
   "execution_count": 429,
   "metadata": {},
   "outputs": [
    {
     "data": {
      "text/plain": [
       "792.53"
      ]
     },
     "execution_count": 429,
     "metadata": {},
     "output_type": "execute_result"
    }
   ],
   "source": [
    "df.Area_ft.median()"
   ]
  },
  {
   "cell_type": "code",
   "execution_count": 430,
   "metadata": {},
   "outputs": [
    {
     "data": {
      "image/png": "[encoded data removed]",
      "text/plain": [
       "<Figure size 432x288 with 1 Axes>"
      ]
     },
     "metadata": {
      "needs_background": "light"
     },
     "output_type": "display_data"
    }
   ],
   "source": [
    "sns_plot = sns.distplot(df.Area_ft)\n",
    "fig = sns_plot.get_figure()"
   ]
  },
  {
   "cell_type": "markdown",
   "metadata": {},
   "source": [
    "при анализе площади распределение не является нормальным и при таком распределении более выгодным является использовании медианы."
   ]
  },
  {
   "cell_type": "code",
   "execution_count": 431,
   "metadata": {},
   "outputs": [
    {
     "data": {
      "text/plain": [
       "USA        0.882022\n",
       "Canada     0.039326\n",
       "Russia     0.022472\n",
       "USA        0.016854\n",
       "UK         0.011236\n",
       "Belgium    0.011236\n",
       "Denmark    0.005618\n",
       "Germany    0.005618\n",
       "Mexico     0.005618\n",
       "Name: Country, dtype: float64"
      ]
     },
     "execution_count": 431,
     "metadata": {},
     "output_type": "execute_result"
    }
   ],
   "source": [
    "df.Country.value_counts(normalize = True)"
   ]
  },
  {
   "cell_type": "code",
   "execution_count": 432,
   "metadata": {},
   "outputs": [
    {
     "data": {
      "text/plain": [
       "California    0.646341\n",
       "Nevada        0.079268\n",
       "Arizona       0.067073\n",
       "Oregon        0.067073\n",
       "Colorado      0.067073\n",
       "Utah          0.036585\n",
       "Virginia      0.024390\n",
       "Kansas        0.006098\n",
       "Wyoming       0.006098\n",
       "Name: State, dtype: float64"
      ]
     },
     "execution_count": 432,
     "metadata": {},
     "output_type": "execute_result"
    }
   ],
   "source": [
    "df.State.value_counts(normalize = True)"
   ]
  },
  {
   "cell_type": "code",
   "execution_count": 433,
   "metadata": {},
   "outputs": [
    {
     "data": {
      "text/plain": [
       "Home          0.662921\n",
       "Investment    0.337079\n",
       "Name: Purpose, dtype: float64"
      ]
     },
     "execution_count": 433,
     "metadata": {},
     "output_type": "execute_result"
    }
   ],
   "source": [
    "df.Purpose.value_counts(normalize = True)"
   ]
  },
  {
   "cell_type": "markdown",
   "metadata": {},
   "source": [
    "#### Практически во всех случаях была продажа жилого помещения в США (штат Калифорния), чаще с 2 или 3 комнатами, площадью 792.53 футов с целью проживания."
   ]
  },
  {
   "cell_type": "code",
   "execution_count": 434,
   "metadata": {},
   "outputs": [
    {
     "data": {
      "image/png": "[encoded data removed]",
      "text/plain": [
       "<Figure size 432x288 with 1 Axes>"
      ]
     },
     "metadata": {
      "needs_background": "light"
     },
     "output_type": "display_data"
    }
   ],
   "source": [
    "sns_plot = sns.distplot(df.Price)\n",
    "fig = sns_plot.get_figure()"
   ]
  },
  {
   "cell_type": "code",
   "execution_count": 435,
   "metadata": {},
   "outputs": [
    {
     "data": {
      "image/png": "[encoded data removed]",
      "text/plain": [
       "<Figure size 432x288 with 1 Axes>"
      ]
     },
     "metadata": {
      "needs_background": "light"
     },
     "output_type": "display_data"
    }
   ],
   "source": [
    "_ = sns.scatterplot(x=df.Price, y=df.Area_ft)"
   ]
  },
  {
   "cell_type": "code",
   "execution_count": 436,
   "metadata": {},
   "outputs": [
    {
     "data": {
      "text/plain": [
       "0.9388825262238637"
      ]
     },
     "execution_count": 436,
     "metadata": {},
     "output_type": "execute_result"
    }
   ],
   "source": [
    "corr_2 = df.Price.corr(df.Area_ft)\n",
    "corr_2"
   ]
  },
  {
   "cell_type": "markdown",
   "metadata": {},
   "source": [
    "между ценой и площадью высокая корреляция, что может говорить о достаточно равной ценовой категории недвижимости ванализируемом датасете. "
   ]
  },
  {
   "cell_type": "markdown",
   "metadata": {},
   "source": [
    "Срединное значение для цены:"
   ]
  },
  {
   "cell_type": "code",
   "execution_count": 442,
   "metadata": {},
   "outputs": [
    {
     "data": {
      "text/plain": [
       "245196.73"
      ]
     },
     "execution_count": 442,
     "metadata": {},
     "output_type": "execute_result"
    }
   ],
   "source": [
    "med_price = df.Price.median()\n",
    "med_price"
   ]
  },
  {
   "cell_type": "markdown",
   "metadata": {},
   "source": [
    "### Оцениваем влияние ипотеки на портрет нашего покупателя и стоимость"
   ]
  },
  {
   "cell_type": "code",
   "execution_count": 443,
   "metadata": {},
   "outputs": [
    {
     "data": {
      "text/plain": [
       "No     0.679775\n",
       "Yes    0.320225\n",
       "Name: Mortgage, dtype: float64"
      ]
     },
     "execution_count": 443,
     "metadata": {},
     "output_type": "execute_result"
    }
   ],
   "source": [
    "df.Mortgage.value_counts(normalize = True)"
   ]
  },
  {
   "cell_type": "code",
   "execution_count": 444,
   "metadata": {},
   "outputs": [
    {
     "data": {
      "text/plain": [
       "0    121\n",
       "1     57\n",
       "Name: Mortgage, dtype: int64"
      ]
     },
     "execution_count": 444,
     "metadata": {},
     "output_type": "execute_result"
    }
   ],
   "source": [
    "df.Mortgage = df.Mortgage. replace(['No', 'Yes'], [0, 1])\n",
    "df.Mortgage.value_counts()"
   ]
  },
  {
   "cell_type": "code",
   "execution_count": 445,
   "metadata": {},
   "outputs": [
    {
     "data": {
      "text/plain": [
       "0.07086268883569397"
      ]
     },
     "execution_count": 445,
     "metadata": {},
     "output_type": "execute_result"
    }
   ],
   "source": [
    "corr_3 = df.Price.corr(df.Mortgage)\n",
    "corr_3"
   ]
  },
  {
   "cell_type": "markdown",
   "metadata": {},
   "source": [
    "Связь между ценой и ипотекой очень слабая."
   ]
  },
  {
   "cell_type": "code",
   "execution_count": 446,
   "metadata": {},
   "outputs": [
    {
     "data": {
      "text/plain": [
       "-0.08584416898051862"
      ]
     },
     "execution_count": 446,
     "metadata": {},
     "output_type": "execute_result"
    }
   ],
   "source": [
    "corr_4 = df.Age_var.corr(df.Mortgage)\n",
    "corr_4"
   ]
  },
  {
   "cell_type": "markdown",
   "metadata": {},
   "source": [
    "Связь между возрастной группой и ипотекой очень слабая."
   ]
  },
  {
   "cell_type": "markdown",
   "metadata": {},
   "source": [
    "#### оцениваем влияние источников информирования."
   ]
  },
  {
   "cell_type": "code",
   "execution_count": 447,
   "metadata": {},
   "outputs": [
    {
     "data": {
      "text/plain": [
       "2    0.578652\n",
       "1    0.325843\n",
       "0    0.095506\n",
       "Name: Source, dtype: float64"
      ]
     },
     "execution_count": 447,
     "metadata": {},
     "output_type": "execute_result"
    }
   ],
   "source": [
    "# значения присваивала по \"ценовому весу\" стоимости источника\n",
    "df.Source = df.Source.replace(['Website', 'Agency', 'Client'], [2, 1, 0])\n",
    "df.Source.value_counts(normalize = True)"
   ]
  },
  {
   "cell_type": "code",
   "execution_count": 450,
   "metadata": {},
   "outputs": [],
   "source": [
    "df.Source = df.Source.astype(int)"
   ]
  },
  {
   "cell_type": "code",
   "execution_count": 451,
   "metadata": {},
   "outputs": [
    {
     "data": {
      "text/plain": [
       "0.08774593060410502"
      ]
     },
     "execution_count": 451,
     "metadata": {},
     "output_type": "execute_result"
    }
   ],
   "source": [
    "# связь между ценой и источником\n",
    "corr_S_P = df.Price.corr(df.Source)\n",
    "corr_S_P"
   ]
  },
  {
   "cell_type": "code",
   "execution_count": 453,
   "metadata": {},
   "outputs": [
    {
     "data": {
      "image/png": "[encoded data removed]",
      "text/plain": [
       "<Figure size 432x288 with 1 Axes>"
      ]
     },
     "metadata": {
      "needs_background": "light"
     },
     "output_type": "display_data"
    }
   ],
   "source": [
    "_ = sns.scatterplot(x=df.Source, y=df.Price)"
   ]
  },
  {
   "cell_type": "code",
   "execution_count": 457,
   "metadata": {},
   "outputs": [
    {
     "data": {
      "text/plain": [
       "0    2\n",
       "dtype: int32"
      ]
     },
     "execution_count": 457,
     "metadata": {},
     "output_type": "execute_result"
    }
   ],
   "source": [
    "top_price_source = df.loc[df.Price > df.Price.quantile(.75), 'Source']\n",
    "mode_price_source = top_price_source.mode()\n",
    "mode_price_source"
   ]
  },
  {
   "cell_type": "markdown",
   "metadata": {},
   "source": [
    "Наиболее частым источником информации при покупке более дорогой недвижимости является веб-сайт компании"
   ]
  },
  {
   "cell_type": "code",
   "execution_count": 461,
   "metadata": {},
   "outputs": [
    {
     "data": {
      "text/plain": [
       "2007    102\n",
       "2006     39\n",
       "2005     15\n",
       "2004     12\n",
       "2008      9\n",
       "2010      1\n",
       "Name: Year_sale, dtype: int64"
      ]
     },
     "execution_count": 461,
     "metadata": {},
     "output_type": "execute_result"
    }
   ],
   "source": [
    "df.Year_sale.value_counts()"
   ]
  },
  {
   "cell_type": "code",
   "execution_count": 462,
   "metadata": {},
   "outputs": [
    {
     "data": {
      "text/plain": [
       "11    25\n",
       "3     22\n",
       "10    18\n",
       "12    18\n",
       "8     18\n",
       "6     15\n",
       "9     14\n",
       "4     13\n",
       "5     11\n",
       "7      8\n",
       "1      8\n",
       "2      8\n",
       "Name: Month_sale, dtype: int64"
      ]
     },
     "execution_count": 462,
     "metadata": {},
     "output_type": "execute_result"
    }
   ],
   "source": [
    "df.Month_sale.value_counts()"
   ]
  },
  {
   "cell_type": "code",
   "execution_count": 463,
   "metadata": {},
   "outputs": [
    {
     "data": {
      "image/png": "[encoded data removed]",
      "text/plain": [
       "<Figure size 432x288 with 1 Axes>"
      ]
     },
     "metadata": {
      "needs_background": "light"
     },
     "output_type": "display_data"
    }
   ],
   "source": [
    "sns_plot = sns.distplot(df.Month_sale)\n",
    "fig = sns_plot.get_figure()"
   ]
  },
  {
   "cell_type": "markdown",
   "metadata": {},
   "source": [
    "#### Основываясь на данных нашего анализа данных о продаже недвижимости мы можем сказать, что:\n",
    "\n",
    "Наиболее часто в 2007 году покупатели мужского пола в возрасте 36-45 лет приобретали недвижимость в США (штат Калифорния) для собственного проживания, тип недвижимости - аппартаменты, площадью 792.53 футов, включающие в себя 2 или 3 комнаты, лишь в 30% случаев привлекая заемные средства (прямой зависимости ни между стоимостью, ни между возрастом или площадью и наличием ипотеки не выявлено), среднее значение (медиана) стоимости составила 245196.73 долларов. При этом по наиболее высоким по цене предложениям в качестве источника информации были веб-сайты компаний. "
   ]
  }
 ],
 "metadata": {
  "kernelspec": {
   "display_name": "Python 3 (ipykernel)",
   "language": "python",
   "name": "python3"
  },
  "language_info": {
   "codemirror_mode": {
    "name": "ipython",
    "version": 3
   },
   "file_extension": ".py",
   "mimetype": "text/x-python",
   "name": "python",
   "nbconvert_exporter": "python",
   "pygments_lexer": "ipython3",
   "version": "3.9.7"
  }
 },
 "nbformat": 4,
 "nbformat_minor": 1
}
